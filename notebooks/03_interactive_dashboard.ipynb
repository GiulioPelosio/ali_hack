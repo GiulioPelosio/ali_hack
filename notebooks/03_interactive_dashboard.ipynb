{
 "cells": [
  {
   "cell_type": "markdown",
   "id": "cc059185",
   "metadata": {},
   "source": [
    "# Final Project: Interactive EDA and Dashboard Creation"
   ]
  },
  {
   "cell_type": "markdown",
   "id": "029a5742",
   "metadata": {},
   "source": [
    "## Part 1: Interactive EDA with Plotly"
   ]
  },
  {
   "cell_type": "markdown",
   "id": "fc8022c5",
   "metadata": {},
   "source": [
    "### 1. Load and Inspect the Dataset"
   ]
  },
  {
   "cell_type": "code",
   "execution_count": null,
   "id": "43495131",
   "metadata": {},
   "outputs": [],
   "source": [
    "# Task: Load the dataset and inspect the first few rows to understand its structure.\n",
    "# Consider using Pandas for loading the dataset and displaying the first rows.\n"
   ]
  },
  {
   "cell_type": "markdown",
   "id": "ccaa9527",
   "metadata": {},
   "source": [
    "### 2. Distribution of Goals and Assists"
   ]
  },
  {
   "cell_type": "code",
   "execution_count": null,
   "id": "e6b833d7",
   "metadata": {},
   "outputs": [],
   "source": [
    "# Task: Create an interactive histogram for the distribution of Goals and Assists using Plotly.\n",
    "# Try visualizing the distributions with different numbers of bins.\n"
   ]
  },
  {
   "cell_type": "markdown",
   "id": "5737e4f0",
   "metadata": {},
   "source": [
    "### 3. Scatter Plot: Goals vs Assists"
   ]
  },
  {
   "cell_type": "code",
   "execution_count": null,
   "id": "acfb5f60",
   "metadata": {},
   "outputs": [],
   "source": [
    "# Task: Create an interactive scatter plot to show the relationship between Goals and Assists.\n",
    "# Include hover data to display the player's name and team when hovering over points.\n"
   ]
  },
  {
   "cell_type": "markdown",
   "id": "3b7eb68a",
   "metadata": {},
   "source": [
    "### 4. Position-specific Stats"
   ]
  },
  {
   "cell_type": "code",
   "execution_count": null,
   "id": "7d865946",
   "metadata": {},
   "outputs": [],
   "source": [
    "# Task: Visualize the distribution of goals based on player positions using a box plot.\n",
    "# This will help identify how players in different positions contribute to scoring.\n"
   ]
  },
  {
   "cell_type": "markdown",
   "id": "ca69b05e",
   "metadata": {},
   "source": [
    "## Part 2: Building a Dashboard with Datapane"
   ]
  },
  {
   "cell_type": "markdown",
   "id": "f1281a5e",
   "metadata": {},
   "source": [
    "### 1. Set Up Datapane"
   ]
  },
  {
   "cell_type": "code",
   "execution_count": null,
   "id": "491f80dc",
   "metadata": {},
   "outputs": [],
   "source": [
    "# Task: Install Datapane and log in using your API token.\n",
    "# You can install Datapane using pip if it's not already installed.\n"
   ]
  },
  {
   "cell_type": "markdown",
   "id": "a68a341e",
   "metadata": {},
   "source": [
    "### 2. Create and Publish the Dashboard"
   ]
  },
  {
   "cell_type": "code",
   "execution_count": null,
   "id": "7d9c4b88",
   "metadata": {},
   "outputs": [],
   "source": [
    "# Task: Combine all your interactive charts and create a Datapane report.\n",
    "# Publish the report to Datapane and share the link to the dashboard.\n"
   ]
  }
 ],
 "metadata": {},
 "nbformat": 4,
 "nbformat_minor": 5
}
