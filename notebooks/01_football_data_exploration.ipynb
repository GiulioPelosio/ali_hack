{
 "cells": [
  {
   "cell_type": "markdown",
   "id": "8d67750d",
   "metadata": {},
   "source": [
    "# Football Data Exploration and Visualization"
   ]
  },
  {
   "cell_type": "markdown",
   "id": "0f7a2e39",
   "metadata": {},
   "source": [
    "## Part 1: Basic Data Exploration with Pandas"
   ]
  },
  {
   "cell_type": "markdown",
   "id": "e3941534",
   "metadata": {},
   "source": [
    "### 1. Inspecting the Data"
   ]
  },
  {
   "cell_type": "code",
   "execution_count": null,
   "id": "53120347",
   "metadata": {},
   "outputs": [],
   "source": [
    "# Load the dataset and display the first 5 rows\n",
    "football_data = pd.read_csv('football_stats_2021_2022_cleaned.csv')\n",
    "football_data.head()"
   ]
  },
  {
   "cell_type": "markdown",
   "id": "61be7a7e",
   "metadata": {},
   "source": [
    "**Question**: What are the columns in the dataset, and what information do they represent?"
   ]
  },
  {
   "cell_type": "markdown",
   "id": "9a55c861",
   "metadata": {},
   "source": [
    "### 2. Data Summary"
   ]
  },
  {
   "cell_type": "code",
   "execution_count": null,
   "id": "27fc2011",
   "metadata": {},
   "outputs": [],
   "source": [
    "# Summarize the dataset\n",
    "football_data.describe()"
   ]
  },
  {
   "cell_type": "markdown",
   "id": "ac96e3d2",
   "metadata": {},
   "source": [
    "**Task**: Find the total number of teams in the dataset."
   ]
  },
  {
   "cell_type": "code",
   "execution_count": null,
   "id": "93fad353",
   "metadata": {},
   "outputs": [],
   "source": [
    "# Find the number of unique teams\n",
    "len(football_data['Squad'].unique())"
   ]
  },
  {
   "cell_type": "markdown",
   "id": "c443f752",
   "metadata": {},
   "source": [
    "### 3. Filtering and Sorting"
   ]
  },
  {
   "cell_type": "code",
   "execution_count": null,
   "id": "7fb0a97c",
   "metadata": {},
   "outputs": [],
   "source": [
    "# Filter and sort teams with more than 85 points\n",
    "football_data[football_data['Pts'] > 85].sort_values(by='Pts', ascending=False)"
   ]
  },
  {
   "cell_type": "markdown",
   "id": "0c613484",
   "metadata": {},
   "source": [
    "**Question**: How many teams had more than 85 points?"
   ]
  },
  {
   "cell_type": "markdown",
   "id": "0f7126bc",
   "metadata": {},
   "source": [
    "### 4. Grouping and Aggregation"
   ]
  },
  {
   "cell_type": "code",
   "execution_count": null,
   "id": "4edced6c",
   "metadata": {},
   "outputs": [],
   "source": [
    "# Group by country and calculate the average goals for\n",
    "football_data.groupby('Country')['GF'].mean()"
   ]
  },
  {
   "cell_type": "markdown",
   "id": "212bd09c",
   "metadata": {},
   "source": [
    "**Question**: Which country had the highest average goals for?"
   ]
  },
  {
   "cell_type": "markdown",
   "id": "520a25ce",
   "metadata": {},
   "source": [
    "### 5. Finding Top Performers"
   ]
  },
  {
   "cell_type": "code",
   "execution_count": null,
   "id": "f5d730a8",
   "metadata": {},
   "outputs": [],
   "source": [
    "# Create the 'Top Scorer' column\n",
    "football_data['Top Scorer'] = football_data['Top Team Scorer'].str.split(' - ').str[0]"
   ]
  },
  {
   "cell_type": "markdown",
   "id": "a3e69a78",
   "metadata": {},
   "source": [
    "### 6. Advanced Pandas Task"
   ]
  },
  {
   "cell_type": "code",
   "execution_count": null,
   "id": "7d1fb09d",
   "metadata": {},
   "outputs": [],
   "source": [
    "# Find top 3 goalkeepers with the lowest GA\n",
    "football_data[['Squad', 'Goalkeeper', 'GA']].sort_values(by='GA').head(3)"
   ]
  },
  {
   "cell_type": "markdown",
   "id": "36ebd377",
   "metadata": {},
   "source": [
    "## Part 2: Data Visualization with Plotly"
   ]
  },
  {
   "cell_type": "markdown",
   "id": "026cb4e2",
   "metadata": {},
   "source": [
    "### 1. Bar Plot: Top 10 Teams by Points"
   ]
  },
  {
   "cell_type": "code",
   "execution_count": null,
   "id": "6e696ef2",
   "metadata": {},
   "outputs": [],
   "source": [
    "import plotly.express as px\n",
    "\n",
    "# Bar plot for top 10 teams by points\n",
    "top_teams = football_data.nlargest(10, 'Pts')\n",
    "fig = px.bar(top_teams, x='Squad', y='Pts', title='Top 10 Teams by Points')\n",
    "fig.show()"
   ]
  },
  {
   "cell_type": "markdown",
   "id": "4f7d1bab",
   "metadata": {},
   "source": [
    "### 2. Pie Chart: Distribution of Wins"
   ]
  },
  {
   "cell_type": "code",
   "execution_count": null,
   "id": "6f5201ce",
   "metadata": {},
   "outputs": [],
   "source": [
    "# Pie chart for total wins by country\n",
    "total_wins = football_data.groupby('Country')['W'].sum().reset_index()\n",
    "fig = px.pie(total_wins, names='Country', values='W', title='Total Wins by Country')\n",
    "fig.show()"
   ]
  },
  {
   "cell_type": "markdown",
   "id": "162e23ee",
   "metadata": {},
   "source": [
    "### 3. Scatter Plot: Points vs Goals Scored"
   ]
  },
  {
   "cell_type": "code",
   "execution_count": null,
   "id": "bef0d240",
   "metadata": {},
   "outputs": [],
   "source": [
    "# Scatter plot for points vs goals scored\n",
    "fig = px.scatter(football_data, x='Pts', y='GF', hover_data=['Squad'], title='Points vs Goals Scored')\n",
    "fig.show()"
   ]
  },
  {
   "cell_type": "markdown",
   "id": "aded3785",
   "metadata": {},
   "source": [
    "### 4. Line Chart: Expected Goals vs Actual Goals"
   ]
  },
  {
   "cell_type": "code",
   "execution_count": null,
   "id": "68df1fb0",
   "metadata": {},
   "outputs": [],
   "source": [
    "# Line chart for expected goals vs actual goals\n",
    "top_5_teams = football_data.nlargest(5, 'Pts')\n",
    "fig = px.line(top_5_teams, x='Squad', y=['xG', 'GF'], title='Expected Goals vs Actual Goals for Top 5 Teams')\n",
    "fig.show()"
   ]
  },
  {
   "cell_type": "markdown",
   "id": "f8f671bc",
   "metadata": {},
   "source": [
    "### 5. Radar Chart: Comparing Key Stats for Top 2 Teams"
   ]
  },
  {
   "cell_type": "code",
   "execution_count": null,
   "id": "5c36dfb2",
   "metadata": {},
   "outputs": [],
   "source": [
    "from plotly.graph_objects import go\n",
    "\n",
    "# Radar chart for top 2 teams comparison\n",
    "top_2_teams = football_data.nlargest(2, 'Pts')\n",
    "categories = ['GF', 'GA', 'Pts', 'xG']\n",
    "\n",
    "fig = go.Figure()\n",
    "\n",
    "for _, row in top_2_teams.iterrows():\n",
    "    fig.add_trace(go.Scatterpolar(\n",
    "        r=[row['GF'], row['GA'], row['Pts'], row['xG']],\n",
    "        theta=categories,\n",
    "        fill='toself',\n",
    "        name=row['Squad']\n",
    "    ))\n",
    "\n",
    "fig.update_layout(title='Top 2 Teams Comparison', polar=dict(radialaxis=dict(visible=True)))\n",
    "fig.show()"
   ]
  }
 ],
 "metadata": {},
 "nbformat": 4,
 "nbformat_minor": 5
}
